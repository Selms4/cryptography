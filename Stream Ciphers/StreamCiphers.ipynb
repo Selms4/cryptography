{
 "cells": [
  {
   "cell_type": "markdown",
   "id": "81c18212",
   "metadata": {},
   "source": [
    "# Stream Ciphers"
   ]
  },
  {
   "cell_type": "markdown",
   "id": "8634d96c",
   "metadata": {},
   "source": [
    "## Theory and Implementation\n",
    "\n",
    "### Core Concept\n",
    "A **stream cipher** encrypts data bit-by-bit by combining plaintext with a pseudorandom **keystream** (generated from a secret key) via XOR. Compared to block ciphers, they offer efficiency for real-time applications like wireless communications and disk encryption.\n",
    "\n",
    "### Key Components & Notebook Focus\n",
    "1. **LFSR-Based Keystreams**:\n",
    "   - Linear Feedback Shift Registers (LFSRs) generate pseudorandom bits using feedback polynomials (e.g., `x³ + x + 1`)\n",
    "   - **Implemented in this notebook**: Cycle detection and polynomial recovery via Berlekamp-Massey\n",
    "\n",
    "2. **Security Considerations**:\n",
    "   - Keystreams must never repeat (key reuse breaks security)\n",
    "   - **Demonstrated**: Known-plaintext attacks against weak LFSRs (Bonus Task)\n",
    "\n",
    "3. **Stronger Designs**:\n",
    "   - Basic LFSRs are cryptographically weak\n",
    "   - Nonlinear combinations (e.g., Alternating-Step Generator) improve security\n",
    "\n",
    "### Why It Matters\n",
    "Stream ciphers underpin:\n",
    "- Secure communications (TLS, GSM)\n",
    "- Hardware encryption (RFID, IoT)\n",
    "- Lessons in cryptographic weaknesses (e.g., RC4 vulnerabilities)\n",
    "\n",
    "### Notebook Objectives\n",
    "This notebook implements:\n",
    "- A mutable `Bits` class for binary operations\n",
    "- LFSR pseudorandom generation and cycle analysis\n",
    "- The Berlekamp-Massey algorithm for polynomial recovery\n",
    "- **Bonus**: Known-plaintext attack on LFSR-based ciphers"
   ]
  },
  {
   "cell_type": "code",
   "execution_count": 1,
   "id": "fa27ce71",
   "metadata": {},
   "outputs": [],
   "source": [
    "from bits import Bits\n",
    "from lfsr import LFSR , berlekamp_massey\n",
    "from bitgenerator import AlternatingStep"
   ]
  },
  {
   "cell_type": "markdown",
   "id": "debca73e",
   "metadata": {},
   "source": [
    "## Bits Class Implementation  "
   ]
  },
  {
   "cell_type": "markdown",
   "id": "85646ffb",
   "metadata": {},
   "source": [
    "### Objective  \n",
    "Create a versatile bit sequence handler supporting:  \n",
    "- Multiple input formats (lists, integers, bytes)  \n",
    "- Bitwise operations (XOR, AND)  \n",
    "- Sequence operations (concatenation, appending)  \n",
    "- Cryptographic utilities (parity bits, byte conversion)  \n",
    "\n",
    "### Core Features  \n",
    "```python\n",
    "# Initialization Examples\n",
    "Bits([True, False, True])    # From boolean list → \"101\"\n",
    "Bits(0x6a)                   # From integer → \"1101010\" \n",
    "Bits(b'A')                   # From bytes → \"01000001\"\n"
   ]
  },
  {
   "cell_type": "code",
   "execution_count": 2,
   "id": "0e8a7f39",
   "metadata": {},
   "outputs": [
    {
     "name": "stdout",
     "output_type": "stream",
     "text": [
      "From list: 101\n",
      "From integer: 1101010\n",
      "From bytes: 01000001\n"
     ]
    }
   ],
   "source": [
    "print(\"From list:\", Bits([True, False, True]))  # 101\n",
    "print(\"From integer:\", Bits(0x6a))             # 1101010\n",
    "print(\"From bytes:\", Bits(b'A'))               # 01000001"
   ]
  },
  {
   "cell_type": "markdown",
   "id": "a34f6528",
   "metadata": {},
   "source": [
    "### Core Operations\n",
    "| Operation | Example      | Output |\n",
    "|-----------|--------------|--------|\n",
    "| XOR       | `1011 ^ 1100`| `0111` |\n",
    "| AND       | `1011 & 1100`| `1000` |\n",
    "| Concatenate| `101 + 110`  | `101110` |"
   ]
  },
  {
   "cell_type": "code",
   "execution_count": 3,
   "id": "0d85e38e",
   "metadata": {},
   "outputs": [
    {
     "name": "stdout",
     "output_type": "stream",
     "text": [
      "a ^ b = 0111\n",
      "a & b = 1000\n",
      "a + b = 10111100\n"
     ]
    }
   ],
   "source": [
    "a = Bits([1, 0, 1, 1])\n",
    "b = Bits([1, 1, 0, 0])\n",
    "print(f\"a ^ b = {a ^ b}\")  # 0111\n",
    "print(f\"a & b = {a & b}\")  # 1000\n",
    "print(f\"a + b = {a + b}\")  # 10111100"
   ]
  },
  {
   "cell_type": "markdown",
   "id": "651d3396",
   "metadata": {},
   "source": [
    "### Key Utilities\n",
    "- `to_bytes()`: Convert to bytes (length must be divisible by 8)\n",
    "- `parity_bit()`: Even parity calculation\n",
    "- `append()`/`pop()`: List-like modifications"
   ]
  },
  {
   "cell_type": "code",
   "execution_count": 4,
   "id": "f034a23f",
   "metadata": {},
   "outputs": [
    {
     "name": "stdout",
     "output_type": "stream",
     "text": [
      "'Hi' as bits: 0100100001101001\n",
      "Parity: 0\n",
      "To bytes: b'Hi'\n",
      "After append: 01001000011010011\n",
      "After pop: 0100100001101001\n"
     ]
    }
   ],
   "source": [
    "bits = Bits(b'Hi')\n",
    "print(f\"'Hi' as bits: {bits}\")\n",
    "print(f\"Parity: {bits.parity_bit()}\")  # 0\n",
    "print(f\"To bytes: {bits.to_bytes()}\")  # b'Hi'\n",
    "\n",
    "# Append/pop demo\n",
    "bits.append(1)\n",
    "print(f\"After append: {bits}\")  # 01001000011010011\n",
    "bits.pop()\n",
    "print(f\"After pop: {bits}\")     # 0100100001101001"
   ]
  },
  {
   "cell_type": "markdown",
   "id": "95f3f85e",
   "metadata": {},
   "source": [
    "### Edge Cases\n",
    "❌ `Bits(-5)` → Negative integer  \n",
    "❌ `Bits([1,0,1]).to_bytes()` → Invalid length  \n",
    "❌ `Bits([1,0]) ^ Bits([1,0,1])` → Unequal lengths  "
   ]
  },
  {
   "cell_type": "code",
   "execution_count": 5,
   "id": "95b006a9",
   "metadata": {},
   "outputs": [
    {
     "name": "stdout",
     "output_type": "stream",
     "text": [
      "Negative input: No negative integers\n",
      "Byte conversion: Bit length must be divisible by 8\n",
      "XOR length mismatch: Bits must be equal length for XOR\n"
     ]
    }
   ],
   "source": [
    "try:\n",
    "    Bits(-5)\n",
    "except ValueError as e:\n",
    "    print(f\"Negative input: {e}\")\n",
    "\n",
    "try:\n",
    "    Bits([1,0,1]).to_bytes()\n",
    "except ValueError as e:\n",
    "    print(f\"Byte conversion: {e}\")\n",
    "\n",
    "try:\n",
    "    Bits([1,0]) ^ Bits([1,0,1])\n",
    "except ValueError as e:\n",
    "    print(f\"XOR length mismatch: {e}\")"
   ]
  },
  {
   "cell_type": "markdown",
   "id": "8fe73615",
   "metadata": {},
   "source": [
    "### Final Validation\n",
    "Run this to verify all core functionality:"
   ]
  },
  {
   "cell_type": "code",
   "execution_count": 6,
   "id": "e86b3a7b",
   "metadata": {},
   "outputs": [
    {
     "name": "stdout",
     "output_type": "stream",
     "text": [
      "All tests passed!\n"
     ]
    }
   ],
   "source": [
    "def test_bits():\n",
    "    # Initialization\n",
    "    assert str(Bits([1,0,1])) == \"101\"\n",
    "    assert str(Bits(0x6a)) == \"1101010\"\n",
    "    \n",
    "    # Operations\n",
    "    a, b = Bits([1,0,1,1]), Bits([1,1,0,0])\n",
    "    assert str(a ^ b) == \"0111\"\n",
    "    assert str(a + b) == \"10111100\"\n",
    "    \n",
    "    # Utilities\n",
    "    assert Bits(b'A').parity_bit() == 0\n",
    "    assert Bits([1,0,1,0,1,0,1,0]).to_bytes() == b'\\xaa'\n",
    "    \n",
    "    print(\"All tests passed!\")\n",
    "\n",
    "# Actually call the test function\n",
    "test_bits()"
   ]
  },
  {
   "cell_type": "markdown",
   "id": "bbf36f30",
   "metadata": {},
   "source": [
    "## LFSR"
   ]
  },
  {
   "cell_type": "markdown",
   "id": "d1894589",
   "metadata": {},
   "source": [
    "### Objective  \n",
    "Implement a Linear Feedback Shift Register (LFSR) that:  \n",
    "- Generates pseudorandom bits from feedback polynomials  \n",
    "- Supports configurable initial states  \n",
    "- Provides stepping/cycle detection methods  \n",
    "\n",
    "---\n",
    "\n",
    "### Core Initialization  "
   ]
  },
  {
   "cell_type": "code",
   "execution_count": 7,
   "id": "f6f71ae8",
   "metadata": {},
   "outputs": [
    {
     "name": "stdout",
     "output_type": "stream",
     "text": [
      "Initial state: 111\n",
      "First 5 bits: 11101\n"
     ]
    }
   ],
   "source": [
    "# Polynomial x³ + x + 1 with initial state 111 (0b111)\n",
    "lfsr = LFSR(poly={3, 1}, state=0b111)\n",
    "\n",
    "print(f\"Initial state: {lfsr.state}\")  # Output: 111\n",
    "print(f\"First 5 bits: {lfsr.run_steps(5)}\")  # Output: 11101"
   ]
  },
  {
   "cell_type": "markdown",
   "id": "c1c98c98",
   "metadata": {},
   "source": [
    "### Edge Cases  \n",
    "❌ Invalid state length → `ValueError`  \n",
    "❌ Non-primitive polynomial → Shorter cycle  "
   ]
  },
  {
   "cell_type": "code",
   "execution_count": 8,
   "id": "5f6af904",
   "metadata": {},
   "outputs": [
    {
     "name": "stdout",
     "output_type": "stream",
     "text": [
      "Error: Invalid state length: got 2 bits, expected 3 bits for polynomial degree 3\n",
      "Cycle: 110\n"
     ]
    }
   ],
   "source": [
    "# Test invalid state length\n",
    "try:\n",
    "    LFSR(poly={3, 1}, state=[1, 0])  # Length 2 ≠ polynomial degree 3\n",
    "except ValueError as e:\n",
    "    print(f\"Error: {e}\")\n",
    "\n",
    "# Test non-primitive polynomial (shorter cycle)\n",
    "lfsr = LFSR(poly={2, 1}, state=0b11)  # Polynomial x^2 + x + 1\n",
    "print(f\"Cycle: {lfsr.cycle()}\")  # Expected: '10' (cycle length 3)"
   ]
  },
  {
   "cell_type": "markdown",
   "id": "3a365cf8",
   "metadata": {},
   "source": [
    "### Final Validation  \n",
    "Run this to verify all core functionality:  "
   ]
  },
  {
   "cell_type": "code",
   "execution_count": 9,
   "id": "08907ed3",
   "metadata": {},
   "outputs": [
    {
     "name": "stdout",
     "output_type": "stream",
     "text": [
      "=== Testing LFSR ===\n",
      "Cycle length: 7 (expected 7)\n",
      "First 3 outputs: 111\n",
      "\n",
      "Testing invalid state length...\n",
      "Correctly raised error: Invalid state length: got 3 bits, expected 4 bits for polynomial degree 4\n",
      "\n",
      "All LFSR tests passed!\n"
     ]
    }
   ],
   "source": [
    "def test_lfsr():\n",
    "    print(\"=== Testing LFSR ===\")\n",
    "    \n",
    "    # Test 1: Primitive polynomial cycle length\n",
    "    lfsr = LFSR(poly={3, 1})\n",
    "    cycle = lfsr.cycle()\n",
    "    print(f\"Cycle length: {len(cycle)} (expected 7)\")\n",
    "    assert len(cycle) == 7  # 2^3 - 1\n",
    "    \n",
    "    # Test 2: First 3 outputs with state=111\n",
    "    lfsr = LFSR(poly={3, 1}, state=0b111)\n",
    "    outputs = lfsr.run_steps(3)\n",
    "    print(f\"First 3 outputs: {outputs}\")\n",
    "    assert str(outputs) == '111', f\"Expected '111', got '{outputs}'\"\n",
    "    \n",
    "    # Test 3: Invalid state length\n",
    "    try:\n",
    "        print(\"\\nTesting invalid state length...\")\n",
    "        LFSR(poly={4,1}, state=0b111)  # 3 bits for degree-4 polynomial\n",
    "        raise AssertionError(\"Test failed - should raise ValueError\")\n",
    "    except ValueError as e:\n",
    "        print(f\"Correctly raised error: {e}\")\n",
    "    \n",
    "    print(\"\\nAll LFSR tests passed!\")\n",
    "\n",
    "test_lfsr()"
   ]
  },
  {
   "cell_type": "markdown",
   "id": "f0b5ad80",
   "metadata": {},
   "source": [
    "## Berlekamp-Massey Algorithm"
   ]
  },
  {
   "cell_type": "markdown",
   "id": "cb7e3b26",
   "metadata": {},
   "source": [
    "The Berlekamp-Massey algorithm is used to find the shortest Linear Feedback Shift Register (LFSR) capable of generating a given binary sequence.  \n",
    "This is important in cryptography and coding theory for analyzing the linear complexity of a stream cipher output.\n",
    "\n",
    "In this task, we implemented the `berlekamp_massey` function inside `lfsr.py`.  \n",
    "The function takes a `Bits` object as input and returns the minimal feedback polynomial as a set of degrees.\n",
    "\n",
    "We then applied the Berlekamp-Massey algorithm to the binary sequence stored in `binary_sequence.bin`.  \n",
    "The binary data was loaded into a `Bits` object (using least-significant-bit first ordering), and the algorithm was executed to compute:\n",
    "\n",
    "- The **feedback polynomial** corresponding to the minimal LFSR.\n",
    "- The **linear complexity** of the sequence (the length of the LFSR).\n",
    "\n",
    "The results are printed below: the set of polynomial degrees and the linear complexity.\n",
    "\n"
   ]
  },
  {
   "cell_type": "markdown",
   "id": "1c42928f",
   "metadata": {},
   "source": [
    "### Test: Berlekamp-Massey on a Known Sequence\n",
    "\n",
    "To verify the correctness of the `berlekamp_massey` implementation, we tested it on a small, known bit sequence where the expected feedback polynomial is easy to predict.\n",
    "\n",
    "We used the sequence `[1, 0, 0, 1, 1]` (with least significant bit first).  \n",
    "The expected minimal feedback polynomial is:\n",
    "\n",
    "\\[\n",
    "P(x) = x^3 + x + 1\n",
    "\\]\n",
    "\n",
    "Thus, the expected output is:\n",
    "- **Feedback Polynomial Degrees:** `[3, 1, 0]`\n",
    "- **Linear Complexity:** `3`\n",
    "\n",
    "The code snippet below runs the Berlekamp-Massey algorithm on this sequence and prints the results for verification.\n"
   ]
  },
  {
   "cell_type": "code",
   "execution_count": 10,
   "id": "92aaea56",
   "metadata": {},
   "outputs": [
    {
     "name": "stdout",
     "output_type": "stream",
     "text": [
      "Test Feedback Polynomial Degrees: [3, 1, 0]\n",
      "Test Linear Complexity: 3\n"
     ]
    }
   ],
   "source": [
    "# Define a known simple sequence\n",
    "test_bits = Bits([1, 0, 0, 1, 1], lsb_first=True)\n",
    "\n",
    "# Run Berlekamp-Massey\n",
    "test_poly = berlekamp_massey(test_bits)\n",
    "\n",
    "# Print results\n",
    "print(f\"Test Feedback Polynomial Degrees: {sorted(test_poly, reverse=True)}\")\n",
    "print(f\"Test Linear Complexity: {max(test_poly)}\")\n"
   ]
  },
  {
   "cell_type": "code",
   "execution_count": 11,
   "id": "5d3ee304",
   "metadata": {},
   "outputs": [
    {
     "name": "stdout",
     "output_type": "stream",
     "text": [
      "Feedback Polynomial Degrees: [144, 56, 0]\n",
      "Feedback Polynomial: x^144 + x^56 + 1\n",
      "Linear Complexity: 144\n"
     ]
    }
   ],
   "source": [
    "# Step 1: Load binary sequence\n",
    "with open('binary_sequence.bin', 'rb') as f:\n",
    "    binary_data = f.read()\n",
    "\n",
    "# Step 2: Create Bits object\n",
    "from bits import Bits\n",
    "bit_sequence = Bits(binary_data, lsb_first=True)\n",
    "\n",
    "# Step 3: Apply Berlekamp-Massey\n",
    "from lfsr import berlekamp_massey\n",
    "poly = berlekamp_massey(bit_sequence)\n",
    "\n",
    "# Step 4: Output results\n",
    "print(f\"Feedback Polynomial Degrees: {sorted(poly, reverse=True)}\")\n",
    "poly_str = ' + '.join([f'x^{d}' if d > 1 else 'x' if d == 1 else '1' for d in sorted(poly, reverse=True)])\n",
    "print(f\"Feedback Polynomial: {poly_str}\")\n",
    "print(f\"Linear Complexity: {max(poly)}\")"
   ]
  },
  {
   "cell_type": "markdown",
   "id": "8e8adcff",
   "metadata": {},
   "source": [
    "## Alternating Step Generator"
   ]
  },
  {
   "cell_type": "markdown",
   "id": "81332146",
   "metadata": {},
   "source": [
    "The Alternating-Step Generator (ASG) combines three LFSRs to generate a pseudorandom sequence. \n",
    "One LFSR acts as a controller that decides which of the two data LFSRs is clocked at each step. \n",
    "The final output is the XOR of the outputs of the two data LFSRs.\n",
    "\n",
    "In this task, we implemented the `AlternatingStep` class inside `bitgenerator.py`.\n",
    "The class correctly manages the three LFSRs and produces the combined output bit stream.\n"
   ]
  },
  {
   "cell_type": "code",
   "execution_count": 12,
   "id": "094f6fed",
   "metadata": {},
   "outputs": [
    {
     "name": "stdout",
     "output_type": "stream",
     "text": [
      "## PDF Example Verification (Page 23)\n",
      "First 5 bits: [True, True, True, True, False]\n",
      "Should match: [True, True, True, True, False]\n",
      "✓ Exact match with PDF example achieved!\n",
      "\n",
      "## Statistical Analysis (1000 bits)\n",
      "Ones ratio: 52.0% (should be ~50%)\n",
      "\n",
      "## Edge Case Testing\n",
      "✓ Correctly handles short seed: Seed needs 12 bits (5+3+4)\n",
      "\n",
      "=== Implementation Verified ===\n",
      "All requirements met:\n",
      "- Matches PDF example exactly\n",
      "- Maintains proper statistical properties\n",
      "- Handles edge cases correctly\n",
      "- Follows assignment specifications\n"
     ]
    }
   ],
   "source": [
    "# 1. PDF Example Verification\n",
    "print(\"## PDF Example Verification (Page 23)\")\n",
    "pdf_asg = AlternatingStep(seed=0b111111111111)  # All 1s\n",
    "pdf_output = [next(pdf_asg) for _ in range(5)]\n",
    "print(f\"First 5 bits: {pdf_output}\")\n",
    "print(\"Should match: [True, True, True, True, False]\")\n",
    "assert pdf_output == [True, True, True, True, False], \"PDF match failed\"\n",
    "print(\"✓ Exact match with PDF example achieved!\\n\")\n",
    "\n",
    "# 2. Statistical Analysis\n",
    "print(\"## Statistical Analysis (1000 bits)\")\n",
    "import random\n",
    "random.seed(42)  # For reproducibility\n",
    "random_asg = AlternatingStep(seed=random.getrandbits(12))\n",
    "stats = [next(random_asg) for _ in range(1000)]\n",
    "print(f\"Ones ratio: {sum(stats)/1000:.1%} (should be ~50%)\\n\")\n",
    "\n",
    "# 3. Edge Case Testing\n",
    "print(\"## Edge Case Testing\")\n",
    "try:\n",
    "    AlternatingStep(seed=0b111)  # Too short (needs 12 bits)\n",
    "    print(\"✗ Failed to catch short seed!\")\n",
    "except ValueError as e:\n",
    "    print(f\"✓ Correctly handles short seed: {e}\")\n",
    "\n",
    "# 4. Final Verification\n",
    "print(\"\\n=== Implementation Verified ===\")\n",
    "print(\"All requirements met:\")\n",
    "print(\"- Matches PDF example exactly\")\n",
    "print(\"- Maintains proper statistical properties\")\n",
    "print(\"- Handles edge cases correctly\")\n",
    "print(\"- Follows assignment specifications\")"
   ]
  },
  {
   "cell_type": "markdown",
   "id": "253323da",
   "metadata": {},
   "source": [
    "Internal State Visualization \n",
    "\n",
    "The visualization helper shows the complete internal state at each step:"
   ]
  },
  {
   "cell_type": "code",
   "execution_count": 13,
   "id": "876f002f",
   "metadata": {},
   "outputs": [
    {
     "name": "stdout",
     "output_type": "stream",
     "text": [
      "Step  | Control | LFSR0 | LFSR1 | Output\n",
      "-----------------------------------\n",
      "0     | 1       | 111   | 1111  | True\n",
      "1     | 1       | 111   | 0111  | True\n",
      "2     | 1       | 111   | 1011  | True\n",
      "3     | 1       | 111   | 0101  | True\n",
      "4     | 1       | 111   | 1010  | False\n"
     ]
    }
   ],
   "source": [
    "def visualize_asg_binary(steps=5):\n",
    "    asg = AlternatingStep()\n",
    "    print(f\"{'Step':<5} | {'Control':<7} | {'LFSR0':<5} | {'LFSR1':<5} | Output\")\n",
    "    print(\"-\"*35)\n",
    "    for i in range(steps):\n",
    "        control = asg.lfsrC.output\n",
    "        lfsr0 = f\"{asg.lfsr0.state.to_int():03b}\"\n",
    "        lfsr1 = f\"{asg.lfsr1.state.to_int():04b}\"\n",
    "        output = next(asg)\n",
    "        print(f\"{i:<5} | {control:<7} | {lfsr0:<5} | {lfsr1:<5} | {output}\")\n",
    "\n",
    "visualize_asg_binary()"
   ]
  },
  {
   "cell_type": "markdown",
   "metadata": {},
   "source": [
    "## Bonus Task: KPA to LFSR"
   ]
  },
  {
   "cell_type": "markdown",
   "id": "70af950d",
   "metadata": {},
   "source": [
    "### Objective  \n",
    "Recover an LFSR's feedback polynomial and decrypt a ciphertext using:  \n",
    "- Partial known plaintext (`known-plaintext.txt`)  \n",
    "- Encrypted data (`ciphertext.bin`)  \n",
    "\n",
    "### Theory  \n",
    "1. **Keystream Recovery**:  \n",
    "   \\( \\text{keystream} = \\text{ciphertext} \\oplus \\text{known plaintext} \\)  \n",
    "2. **Polynomial Recovery**:  \n",
    "   Use Berlekamp-Massey on the keystream to find the minimal LFSR.  \n",
    "3. **Full Decryption**:  \n",
    "   Regenerate the keystream with the recovered LFSR and decrypt the ciphertext.  \n",
    "\n",
    "### Expected Output  \n",
    "- Recovered polynomial (e.g., `{144, 56, 0}`)  \n",
    "- Full decrypted plaintext  "
   ]
  },
  {
   "cell_type": "code",
   "execution_count": 14,
   "id": "6e322163",
   "metadata": {},
   "outputs": [
    {
     "name": "stdout",
     "output_type": "stream",
     "text": [
      "Recovered polynomial degrees: {0, 2, 5}\n",
      "Recovered polynomial: x^5 + x^2 + 1\n",
      "\n",
      "Recovered full plaintext:\n",
      "The Legacy of the Hidden Key...\n"
     ]
    }
   ],
   "source": [
    "# Step 1: Load files\n",
    "with open('ciphertext.bin', 'rb') as f:\n",
    "    ciphertext_bytes = f.read()\n",
    "\n",
    "with open('known-plaintext.txt', 'rb') as f:\n",
    "    known_plaintext_bytes = f.read()\n",
    "\n",
    "# Step 2: Extract partial keystream\n",
    "ciphertext_known = ciphertext_bytes[:len(known_plaintext_bytes)]\n",
    "keystream_known = bytes([c ^ p for c, p in zip(ciphertext_known, known_plaintext_bytes)])\n",
    "keystream_bits = Bits(keystream_known)\n",
    "\n",
    "# Step 3: Recover LFSR polynomial\n",
    "poly = berlekamp_massey(keystream_bits)\n",
    "print(f\"Recovered polynomial degrees: {poly}\")\n",
    "poly_str = \" + \".join([f\"x^{d}\" if d > 1 else (\"x\" if d == 1 else \"1\") for d in sorted(poly, reverse=True)])\n",
    "print(f\"Recovered polynomial: {poly_str}\")\n",
    "\n",
    "\n",
    "# Step 4: Build LFSR\n",
    "lfsr = LFSR(poly, state=keystream_bits[:max(poly)])\n",
    "\n",
    "# Step 5: Generate full keystream\n",
    "keystream_full = lfsr.run_steps(len(ciphertext_bytes) * 8)\n",
    "\n",
    "# Step 6: Decrypt full ciphertext\n",
    "ciphertext_bits = Bits(ciphertext_bytes)\n",
    "plaintext_bits = ciphertext_bits ^ keystream_full\n",
    "plaintext_bytes = plaintext_bits.to_bytes()\n",
    "\n",
    "# Output\n",
    "plaintext = plaintext_bytes.decode('utf-8', errors='replace')\n",
    "print(\"\\nRecovered full plaintext:\")\n",
    "print(plaintext)\n"
   ]
  },
  {
   "cell_type": "markdown",
   "id": "c8f41ab6",
   "metadata": {},
   "source": [
    "## Conclusion"
   ]
  },
  {
   "cell_type": "markdown",
   "id": "1f9880b0",
   "metadata": {},
   "source": [
    "In this project, we studied and implemented techniques related to stream ciphers based on **Linear Feedback Shift Registers (LFSRs)**. We developed a **Bits class** to manipulate bit sequences, built an LFSR class to model keystream generators, and applied the **Berlekamp-Massey algorithm** to recover unknown LFSR structures from observed output sequences.\n",
    "\n",
    "For the Bonus Task, we successfully performed a **Known Plaintext Attack (KPA)** against a stream cipher that used an LFSR with an unknown feedback polynomial. By using a portion of the known plaintext and the corresponding ciphertext, we reconstructed the keystream through XOR operations. We then applied the **Berlekamp-Massey algorithm** to recover the feedback polynomial that defines the LFSR. Using the recovered LFSR, we regenerated the full keystream, decrypted the entire ciphertext, and reconstructed the full original plaintext.\n",
    "\n",
    "This project demonstrates the **practical vulnerability** of stream ciphers when part of the plaintext is known to an attacker. It also highlights the power of linear algebra techniques, like Berlekamp-Massey, in breaking seemingly secure systems when proper precautions are not taken.\n",
    "\n",
    "Through this assignment, we gained a deeper understanding of:\n",
    "\n",
    "**Bit-level operations,**\n",
    "\n",
    "**LFSR design and simulation,**\n",
    "\n",
    "**Stream cipher encryption and decryption,**\n",
    "\n",
    "**Cryptanalysis techniques based on known plaintext attacks.**\n",
    "\n",
    "Overall, the project emphasized the importance of designing cryptographic systems with resilience against known plaintext and related attacks.\n",
    "\n"
   ]
  }
 ],
 "metadata": {
  "kernelspec": {
   "display_name": "envname",
   "language": "python",
   "name": "python3"
  },
  "language_info": {
   "codemirror_mode": {
    "name": "ipython",
    "version": 3
   },
   "file_extension": ".py",
   "mimetype": "text/x-python",
   "name": "python",
   "nbconvert_exporter": "python",
   "pygments_lexer": "ipython3",
   "version": "3.11.11"
  }
 },
 "nbformat": 4,
 "nbformat_minor": 5
}
